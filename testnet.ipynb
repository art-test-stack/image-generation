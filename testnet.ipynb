{
 "cells": [
  {
   "cell_type": "code",
   "execution_count": null,
   "metadata": {},
   "outputs": [],
   "source": [
    "from model.data import StackedMNIST\n",
    "from model.test.verification_net import VerificationNet\n",
    "\n",
    "from model.settings import *\n",
    "\n",
    "trainset = StackedMNIST(train=True, mode=AE_DATAMODE)\n",
    "testset = StackedMNIST(train=False, mode=AE_DATAMODE)\n",
    "\n",
    "verifNet = VerificationNet()\n",
    "\n",
    "verifNet.force_relearn = True\n",
    "\n",
    "verifNet.train(trainset=trainset, valset=testset)"
   ]
  }
 ],
 "metadata": {
  "kernelspec": {
   "display_name": "deeplearning",
   "language": "python",
   "name": "python3"
  },
  "language_info": {
   "codemirror_mode": {
    "name": "ipython",
    "version": 3
   },
   "file_extension": ".py",
   "mimetype": "text/x-python",
   "name": "python",
   "nbconvert_exporter": "python",
   "pygments_lexer": "ipython3",
   "version": "3.10.11"
  }
 },
 "nbformat": 4,
 "nbformat_minor": 2
}
