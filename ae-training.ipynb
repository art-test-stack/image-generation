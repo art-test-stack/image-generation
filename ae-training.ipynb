{
 "cells": [
  {
   "cell_type": "code",
   "execution_count": null,
   "metadata": {},
   "outputs": [],
   "source": [
    "from model.data import StackedMNIST\n",
    "from model.train.autoencoder.autoencoder import AutoEncoder\n",
    "from model.train.autoencoder.ae_trainer import AutoEncoderTrainer\n",
    "\n",
    "from model.settings import *\n",
    "from model.test.verification_net import VerificationNet"
   ]
  },
  {
   "cell_type": "code",
   "execution_count": null,
   "metadata": {},
   "outputs": [],
   "source": [
    "import numpy as np\n",
    "import torch\n",
    "import torch.nn as nn\n",
    "import torch.optim as optim\n",
    "\n",
    "from torch.utils.data import DataLoader\n",
    "\n",
    "from tqdm import tqdm\n",
    "import matplotlib.pyplot as plt\n",
    "\n",
    "from pathlib import Path\n",
    "\n",
    "from model.utils import get_gpu\n",
    "get_gpu()\n",
    "\n",
    "trainset = StackedMNIST(train=True, mode=AE_DATAMODE)\n",
    "testset = StackedMNIST(train=False, mode=AE_DATAMODE)\n",
    "\n",
    "trainer = AutoEncoderTrainer()\n",
    "trainer.force_relearn = True\n",
    "trainer.train(trainset=trainset,valset=testset)\n",
    "\n",
    "plt.plot(trainer.losses, label=\"losses\")\n",
    "plt.plot(trainer.val_losses, label=\"val losses\")\n",
    "plt.legend()\n",
    "\n",
    "# Trainer = Trainer.load_trainer(trainer_file)\n",
    "\n",
    "train_set = DataLoader(trainset, shuffle=True, batch_size=2048)\n",
    "test_set = DataLoader(testset, shuffle=True, batch_size=2048)\n",
    "\n",
    "trainer.print_reconstructed_img(testset)\n",
    "\n",
    "verifNet = VerificationNet()\n",
    "\n",
    "trainer.print_class_coverage_and_predictability(verifNet, trainset)\n",
    "trainer.print_class_coverage_and_predictability(verifNet, testset)\n"
   ]
  }
 ],
 "metadata": {
  "kernelspec": {
   "display_name": "deeplearning",
   "language": "python",
   "name": "python3"
  },
  "language_info": {
   "codemirror_mode": {
    "name": "ipython",
    "version": 3
   },
   "file_extension": ".py",
   "mimetype": "text/x-python",
   "name": "python",
   "nbconvert_exporter": "python",
   "pygments_lexer": "ipython3",
   "version": "3.10.11"
  }
 },
 "nbformat": 4,
 "nbformat_minor": 2
}
